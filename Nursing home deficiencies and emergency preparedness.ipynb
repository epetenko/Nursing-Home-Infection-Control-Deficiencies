{
 "cells": [
  {
   "cell_type": "code",
   "execution_count": 2,
   "metadata": {},
   "outputs": [],
   "source": [
    "import pandas as pd\n",
    "\n",
    "import matplotlib as plt\n",
    "\n",
    "%matplotlib inline"
   ]
  },
  {
   "cell_type": "code",
   "execution_count": 3,
   "metadata": {},
   "outputs": [],
   "source": [
    "ep = pd.read_csv('Emergency_Preparedness_Deficiencies.csv')"
   ]
  },
  {
   "cell_type": "code",
   "execution_count": 4,
   "metadata": {},
   "outputs": [],
   "source": [
    "# ep[ep['Provider State'] == 'VT'].to_csv('Emergency_preparedness_deficiencies_VT.csv')"
   ]
  },
  {
   "cell_type": "code",
   "execution_count": 5,
   "metadata": {},
   "outputs": [],
   "source": [
    "df1 = pd.read_csv('Deficiencies_Displayed_on_Nursing_Home_Compare___Cycle_1.csv')\n",
    "\n",
    "vt1 = df1[df1['Provider State'] == 'VT']\n",
    "\n",
    "df2 = pd.read_csv('Deficiencies_Displayed_on_Nursing_Home_Compare___Cycle_2.csv')\n",
    "\n",
    "vt2 = df2[df2['Provider State'] == 'VT']\n",
    "\n",
    "df3 = pd.read_csv('Deficiencies_Displayed_on_Nursing_Home_Compare___Cycle_3.csv')\n",
    "\n",
    "vt3 = df3[df3['Provider State'] == 'VT']\n",
    "\n",
    "# pd.concat([vt1, vt2, vt3]).to_csv('Vermont_deficiences_c1c3.csv')\n",
    "\n",
    "vt = pd.concat([vt1, vt2, vt3])"
   ]
  },
  {
   "cell_type": "code",
   "execution_count": 6,
   "metadata": {},
   "outputs": [],
   "source": [
    "vt[(vt['Deficiency Tag Number'] == 880) | (vt['Deficiency Tag Number'] == 441) | (vt['Deficiency Tag Number'] == 882)]\n",
    "vt[(vt['Deficiency Tag Number'] == 880) | (vt['Deficiency Tag Number'] == 441) | (vt['Deficiency Tag Number'] == 882)].to_csv('Infection_control_deficiences.csv')"
   ]
  },
  {
   "cell_type": "code",
   "execution_count": 7,
   "metadata": {},
   "outputs": [],
   "source": [
    "df = pd.concat([df1, df2, df3])\n",
    "\n",
    "df[(df['Deficiency Tag Number'] == 880) | (df['Deficiency Tag Number'] == 441) | (df['Deficiency Tag Number'] == 882)].to_csv('CMS_Nursing_homes_with_infection_control_deficiencies.csv')\n"
   ]
  }
 ],
 "metadata": {
  "kernelspec": {
   "display_name": "Python 3",
   "language": "python",
   "name": "python3"
  },
  "language_info": {
   "codemirror_mode": {
    "name": "ipython",
    "version": 3
   },
   "file_extension": ".py",
   "mimetype": "text/x-python",
   "name": "python",
   "nbconvert_exporter": "python",
   "pygments_lexer": "ipython3",
   "version": "3.7.4"
  }
 },
 "nbformat": 4,
 "nbformat_minor": 2
}
